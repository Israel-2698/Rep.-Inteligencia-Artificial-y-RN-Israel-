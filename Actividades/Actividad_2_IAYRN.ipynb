{
  "cells": [
    {
      "cell_type": "markdown",
      "source": [
        "## A2: Ejercicios en Python."
      ],
      "metadata": {
        "id": "TuBL8oje8T1W"
      }
    },
    {
      "cell_type": "markdown",
      "source": [
        "1.-Desarrolla un algoritmo que le pida al usuario por su nombre y que lo salude con su nombre, excepto si se llama “Ana”, “Juan”, y “Pedro”."
      ],
      "metadata": {
        "id": "xXb9bAWY8JTV"
      }
    },
    {
      "cell_type": "code",
      "source": [
        "\n",
        "nombres = input(\"Ingrese su nombre: \")\n",
        "a = \"Ana\"\n",
        "b = \"Juan\"\n",
        "c = \"Pedro\"\n",
        "if nombres ==a or nombres ==b or nombres==c :\n",
        "    print(\"Hola\")\n",
        "else :\n",
        "    print(\"Hola \"+ nombres +\" Bienvenido.\")\n"
      ],
      "metadata": {
        "id": "3apCGW8Z8oXt",
        "colab": {
          "base_uri": "https://localhost:8080/"
        },
        "outputId": "a3cc4602-f8cc-45b1-fb01-411cf91904ad"
      },
      "execution_count": 260,
      "outputs": [
        {
          "output_type": "stream",
          "name": "stdout",
          "text": [
            "Ingrese su nombre: Juan\n",
            "Hola\n"
          ]
        }
      ]
    },
    {
      "cell_type": "code",
      "source": [
        "nombres = input(\"Ingrese su nombre: \")\n",
        "a = \"Ana\"\n",
        "b = \"Juan\"\n",
        "c = \"Pedro\"\n",
        "if nombres ==a or nombres ==b or nombres==c :\n",
        "    print(\"Hola\")\n",
        "else :\n",
        "    print(\"Hola \"+ nombres +\" Bienvenido.\")"
      ],
      "metadata": {
        "colab": {
          "base_uri": "https://localhost:8080/"
        },
        "id": "_qNjlnKmaF1T",
        "outputId": "5abf9081-0306-43e1-9764-a3c35ba2b37e"
      },
      "execution_count": 261,
      "outputs": [
        {
          "output_type": "stream",
          "name": "stdout",
          "text": [
            "Ingrese su nombre: Israel\n",
            "Hola Israel Bienvenido.\n"
          ]
        }
      ]
    },
    {
      "cell_type": "markdown",
      "source": [
        "Desarrolla un algoritmo que por medio de una función, le pida al usuario una lista de N elementos y como resultado invierta el sentido de la lista."
      ],
      "metadata": {
        "id": "K4ZPz7OLxWk1"
      }
    },
    {
      "cell_type": "code",
      "source": [
        "def funcion(lista):\n",
        "  lista=[]\n",
        "  cant=int(input(\"Ingrese la cantidad de datos que requiera en la lista: \"))\n",
        "  for i in range(cant):\n",
        "    dato=input(\"Ingresa los datos de la lista: \")\n",
        "    lista.append(dato)\n",
        "  for x in reversed(lista):\n",
        "    print(x)\n",
        "  "
      ],
      "metadata": {
        "id": "WEuRRy06SISU"
      },
      "execution_count": 258,
      "outputs": []
    },
    {
      "cell_type": "code",
      "source": [
        "funcion(lista)"
      ],
      "metadata": {
        "colab": {
          "base_uri": "https://localhost:8080/"
        },
        "id": "ly-KVf4kYWPc",
        "outputId": "0ba8925f-6e8f-48c6-e748-348bf2308a57"
      },
      "execution_count": 259,
      "outputs": [
        {
          "output_type": "stream",
          "name": "stdout",
          "text": [
            "Ingrese la cantidad de datos que requiera en la lista: 6\n",
            "Ingresa los datos de la lista: bart\n",
            "Ingresa los datos de la lista: lisa\n",
            "Ingresa los datos de la lista: homero\n",
            "Ingresa los datos de la lista: maggie\n",
            "Ingresa los datos de la lista: marge\n",
            "Ingresa los datos de la lista: abraham\n",
            "abraham\n",
            "marge\n",
            "maggie\n",
            "homero\n",
            "lisa\n",
            "bart\n"
          ]
        }
      ]
    },
    {
      "cell_type": "markdown",
      "source": [
        "Desarrolla un algoritmo que le pregunte al usuario cuántos números de la serie de Fibonnaci quiere generar y que al final los imprima."
      ],
      "metadata": {
        "id": "TaTKg-B2SJ2h"
      }
    },
    {
      "cell_type": "code",
      "source": [
        "fin_serie = int(input(\"Ingrese la cantidad de numeros a generar para la serie de Fibonacci: \"))\n",
        "s=[]\n",
        "x,y=0,1\n",
        "for i in range(fin_serie):\n",
        "  s.append(x)\n",
        "  x,y=y,x+y\n",
        "print(\"La serie de Fibonacci formada es: \", s)\n",
        "\n",
        "\n",
        "\n"
      ],
      "metadata": {
        "colab": {
          "base_uri": "https://localhost:8080/"
        },
        "id": "02sXvZhbSQsz",
        "outputId": "28fb8343-0813-4e3f-a9a7-f8b1238e92c3"
      },
      "execution_count": 264,
      "outputs": [
        {
          "output_type": "stream",
          "name": "stdout",
          "text": [
            "Ingrese la cantidad de numeros a generar para la serie de Fibonacci: 18\n",
            "La serie de Fibonacci formada es:  [0, 1, 1, 2, 3, 5, 8, 13, 21, 34, 55, 89, 144, 233, 377, 610, 987, 1597]\n"
          ]
        }
      ]
    }
  ],
  "metadata": {
    "colab": {
      "toc_visible": true,
      "provenance": []
    },
    "kernelspec": {
      "display_name": "Python 3",
      "name": "python3"
    }
  },
  "nbformat": 4,
  "nbformat_minor": 0
}